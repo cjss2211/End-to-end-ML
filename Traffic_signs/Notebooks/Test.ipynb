{
 "cells": [
  {
   "cell_type": "code",
   "execution_count": 1,
   "metadata": {
    "colab": {},
    "colab_type": "code",
    "id": "H7tcAraU_EcK"
   },
   "outputs": [],
   "source": [
    "# Libraries Imports\n",
    "import argparse\n",
    "import json\n",
    "from math import ceil\n",
    "#import PIL\n",
    "from PIL import Image\n",
    "import torch\n",
    "import numpy as np\n",
    "from torchvision import datasets, transforms, models\n",
    "from sklearn.metrics import confusion_matrix, classification_report\n",
    "import torch.nn.functional as F\n",
    "import pandas as pd\n",
    "import seaborn as sns\n",
    "import matplotlib.pyplot as plt"
   ]
  },
  {
   "cell_type": "code",
   "execution_count": 2,
   "metadata": {
    "colab": {},
    "colab_type": "code",
    "id": "9v7kOMk6BzkZ"
   },
   "outputs": [],
   "source": [
    "# Means and standard deviations for normalize images\n",
    "mean = [0.485, 0.456, 0.406]\n",
    "std_dev = [0.229, 0.224, 0.225]\n",
    "\n",
    "# Sign Traffic Classes\n",
    "class_names = ['give_way', 'no_entry', 'priority_road',  'stop']\n"
   ]
  },
  {
   "cell_type": "code",
   "execution_count": null,
   "metadata": {
    "colab": {},
    "colab_type": "code",
    "id": "MJ7lzkT9Cve4"
   },
   "outputs": [],
   "source": [
    "def process_image(image):\n",
    "    ''' Scales, crops, and normalizes a PIL image for a PyTorch model,\n",
    "        returns an Numpy array\n",
    "    '''\n",
    "    transf = transforms.Compose([transforms.Resize(256),\n",
    "                                transforms.CenterCrop(224),\n",
    "                                transforms.ToTensor(),\n",
    "                                transforms.Normalize(mean, std_dev)\n",
    "                                ])\n",
    "   #img = Image.open(image)\n",
    "    img_transf = transf(image)\n",
    "    # TODO: Process a PIL image for use in a PyTorch model\n",
    "    return img_transf\n"
   ]
  },
  {
   "cell_type": "markdown",
   "metadata": {
    "colab_type": "text",
    "id": "BS3oXpsDDH1b"
   },
   "source": [
    "Getting Probability Prediction"
   ]
  },
  {
   "cell_type": "code",
   "execution_count": 3,
   "metadata": {
    "colab": {},
    "colab_type": "code",
    "id": "Qjvvm7BtCyBS"
   },
   "outputs": [],
   "source": [
    "def predict_proba(model, image_path):\n",
    "  img = Image.open(image_path)\n",
    "  img = process_image(img).unsqueeze(0)\n",
    "  \n",
    "  pred = model(img.to(device))\n",
    "  pred = F.softmax(pred, dim=1)\n",
    "  return pred.detach().cpu().numpy().flatten()\n",
    "\n",
    "  \n",
    "def show_prediction_confidence(prediction, class_names):\n",
    "  pred_df = pd.DataFrame({\n",
    "    'class_names': class_names,\n",
    "    'values': prediction\n",
    "  })\n",
    "  sns.barplot(x='values', y='class_names', data=pred_df, orient='h')\n",
    "  plt.xlim([0, 1]);\n",
    "  "
   ]
  },
  {
   "cell_type": "code",
   "execution_count": 7,
   "metadata": {
    "colab": {},
    "colab_type": "code",
    "id": "ESkVNCw1C3Kx"
   },
   "outputs": [
    {
     "ename": "RuntimeError",
     "evalue": "version_ <= kMaxSupportedFileFormatVersion INTERNAL ASSERT FAILED at /pytorch/caffe2/serialize/inline_container.cc:132, please report a bug to PyTorch. Attempted to read a PyTorch file with version 3, but the maximum supported version for reading is 2. Your PyTorch installation may be too old. (init at /pytorch/caffe2/serialize/inline_container.cc:132)\nframe #0: c10::Error::Error(c10::SourceLocation, std::string const&) + 0x33 (0x7f13cc4a9193 in /home/cristiansouza/anaconda3/lib/python3.7/site-packages/torch/lib/libc10.so)\nframe #1: caffe2::serialize::PyTorchStreamReader::init() + 0x1f5b (0x7f13a6edcf8b in /home/cristiansouza/anaconda3/lib/python3.7/site-packages/torch/lib/libtorch.so)\nframe #2: caffe2::serialize::PyTorchStreamReader::PyTorchStreamReader(std::string const&) + 0x64 (0x7f13a6ede1a4 in /home/cristiansouza/anaconda3/lib/python3.7/site-packages/torch/lib/libtorch.so)\nframe #3: <unknown function> + 0x68ea06 (0x7f13b43a1a06 in /home/cristiansouza/anaconda3/lib/python3.7/site-packages/torch/lib/libtorch_python.so)\nframe #4: <unknown function> + 0x2701f4 (0x7f13b3f831f4 in /home/cristiansouza/anaconda3/lib/python3.7/site-packages/torch/lib/libtorch_python.so)\nframe #5: _PyMethodDef_RawFastCallDict + 0x267 (0x55773302a987 in /home/cristiansouza/anaconda3/bin/python)\nframe #6: _PyCFunction_FastCallDict + 0x21 (0x55773302aae1 in /home/cristiansouza/anaconda3/bin/python)\nframe #7: _PyObject_Call_Prepend + 0x63 (0x55773301cc43 in /home/cristiansouza/anaconda3/bin/python)\nframe #8: PyObject_Call + 0x6e (0x55773301195e in /home/cristiansouza/anaconda3/bin/python)\nframe #9: <unknown function> + 0xa23b1 (0x557732f903b1 in /home/cristiansouza/anaconda3/bin/python)\nframe #10: _PyObject_FastCallKeywords + 0x128 (0x5577330679b8 in /home/cristiansouza/anaconda3/bin/python)\nframe #11: _PyEval_EvalFrameDefault + 0x537e (0x5577330c37ae in /home/cristiansouza/anaconda3/bin/python)\nframe #12: _PyEval_EvalCodeWithName + 0x5da (0x5577330047da in /home/cristiansouza/anaconda3/bin/python)\nframe #13: _PyFunction_FastCallDict + 0x1d5 (0x5577330055d5 in /home/cristiansouza/anaconda3/bin/python)\nframe #14: _PyObject_Call_Prepend + 0x63 (0x55773301cc43 in /home/cristiansouza/anaconda3/bin/python)\nframe #15: <unknown function> + 0x1710aa (0x55773305f0aa in /home/cristiansouza/anaconda3/bin/python)\nframe #16: _PyObject_FastCallKeywords + 0x128 (0x5577330679b8 in /home/cristiansouza/anaconda3/bin/python)\nframe #17: _PyEval_EvalFrameDefault + 0x4bf6 (0x5577330c3026 in /home/cristiansouza/anaconda3/bin/python)\nframe #18: _PyEval_EvalCodeWithName + 0x2f9 (0x5577330044f9 in /home/cristiansouza/anaconda3/bin/python)\nframe #19: _PyFunction_FastCallKeywords + 0x387 (0x557733066a27 in /home/cristiansouza/anaconda3/bin/python)\nframe #20: _PyEval_EvalFrameDefault + 0x14ce (0x5577330bf8fe in /home/cristiansouza/anaconda3/bin/python)\nframe #21: _PyEval_EvalCodeWithName + 0x2f9 (0x5577330044f9 in /home/cristiansouza/anaconda3/bin/python)\nframe #22: PyEval_EvalCodeEx + 0x44 (0x5577330053c4 in /home/cristiansouza/anaconda3/bin/python)\nframe #23: PyEval_EvalCode + 0x1c (0x5577330053ec in /home/cristiansouza/anaconda3/bin/python)\nframe #24: <unknown function> + 0x1e004d (0x5577330ce04d in /home/cristiansouza/anaconda3/bin/python)\nframe #25: _PyMethodDef_RawFastCallKeywords + 0xe9 (0x557733067569 in /home/cristiansouza/anaconda3/bin/python)\nframe #26: _PyCFunction_FastCallKeywords + 0x21 (0x557733067801 in /home/cristiansouza/anaconda3/bin/python)\nframe #27: _PyEval_EvalFrameDefault + 0x4755 (0x5577330c2b85 in /home/cristiansouza/anaconda3/bin/python)\nframe #28: _PyGen_Send + 0x2a2 (0x557733060672 in /home/cristiansouza/anaconda3/bin/python)\nframe #29: _PyEval_EvalFrameDefault + 0x1a6d (0x5577330bfe9d in /home/cristiansouza/anaconda3/bin/python)\nframe #30: _PyGen_Send + 0x2a2 (0x557733060672 in /home/cristiansouza/anaconda3/bin/python)\nframe #31: _PyEval_EvalFrameDefault + 0x1a6d (0x5577330bfe9d in /home/cristiansouza/anaconda3/bin/python)\nframe #32: _PyGen_Send + 0x2a2 (0x557733060672 in /home/cristiansouza/anaconda3/bin/python)\nframe #33: _PyMethodDef_RawFastCallKeywords + 0x8c (0x55773306750c in /home/cristiansouza/anaconda3/bin/python)\nframe #34: _PyMethodDescr_FastCallKeywords + 0x4f (0x55773306786f in /home/cristiansouza/anaconda3/bin/python)\nframe #35: _PyEval_EvalFrameDefault + 0x4c4c (0x5577330c307c in /home/cristiansouza/anaconda3/bin/python)\nframe #36: _PyFunction_FastCallKeywords + 0xfb (0x55773306679b in /home/cristiansouza/anaconda3/bin/python)\nframe #37: _PyEval_EvalFrameDefault + 0x416 (0x5577330be846 in /home/cristiansouza/anaconda3/bin/python)\nframe #38: _PyFunction_FastCallKeywords + 0xfb (0x55773306679b in /home/cristiansouza/anaconda3/bin/python)\nframe #39: _PyEval_EvalFrameDefault + 0x6a0 (0x5577330bead0 in /home/cristiansouza/anaconda3/bin/python)\nframe #40: _PyEval_EvalCodeWithName + 0x2f9 (0x5577330044f9 in /home/cristiansouza/anaconda3/bin/python)\nframe #41: _PyFunction_FastCallDict + 0x400 (0x557733005800 in /home/cristiansouza/anaconda3/bin/python)\nframe #42: _PyObject_Call_Prepend + 0x63 (0x55773301cc43 in /home/cristiansouza/anaconda3/bin/python)\nframe #43: PyObject_Call + 0x6e (0x55773301195e in /home/cristiansouza/anaconda3/bin/python)\nframe #44: _PyEval_EvalFrameDefault + 0x1e20 (0x5577330c0250 in /home/cristiansouza/anaconda3/bin/python)\nframe #45: _PyEval_EvalCodeWithName + 0x5da (0x5577330047da in /home/cristiansouza/anaconda3/bin/python)\nframe #46: _PyFunction_FastCallKeywords + 0x387 (0x557733066a27 in /home/cristiansouza/anaconda3/bin/python)\nframe #47: _PyEval_EvalFrameDefault + 0x14ce (0x5577330bf8fe in /home/cristiansouza/anaconda3/bin/python)\nframe #48: <unknown function> + 0x171cc6 (0x55773305fcc6 in /home/cristiansouza/anaconda3/bin/python)\nframe #49: <unknown function> + 0x171ecb (0x55773305fecb in /home/cristiansouza/anaconda3/bin/python)\nframe #50: _PyMethodDef_RawFastCallKeywords + 0xe9 (0x557733067569 in /home/cristiansouza/anaconda3/bin/python)\nframe #51: _PyCFunction_FastCallKeywords + 0x21 (0x557733067801 in /home/cristiansouza/anaconda3/bin/python)\nframe #52: _PyEval_EvalFrameDefault + 0x4755 (0x5577330c2b85 in /home/cristiansouza/anaconda3/bin/python)\nframe #53: _PyEval_EvalCodeWithName + 0x5da (0x5577330047da in /home/cristiansouza/anaconda3/bin/python)\nframe #54: _PyFunction_FastCallKeywords + 0x387 (0x557733066a27 in /home/cristiansouza/anaconda3/bin/python)\nframe #55: _PyEval_EvalFrameDefault + 0x6a0 (0x5577330bead0 in /home/cristiansouza/anaconda3/bin/python)\nframe #56: <unknown function> + 0x171cc6 (0x55773305fcc6 in /home/cristiansouza/anaconda3/bin/python)\nframe #57: <unknown function> + 0x171ecb (0x55773305fecb in /home/cristiansouza/anaconda3/bin/python)\nframe #58: _PyMethodDef_RawFastCallKeywords + 0xe9 (0x557733067569 in /home/cristiansouza/anaconda3/bin/python)\nframe #59: _PyCFunction_FastCallKeywords + 0x21 (0x557733067801 in /home/cristiansouza/anaconda3/bin/python)\nframe #60: _PyEval_EvalFrameDefault + 0x4755 (0x5577330c2b85 in /home/cristiansouza/anaconda3/bin/python)\nframe #61: _PyEval_EvalCodeWithName + 0x5da (0x5577330047da in /home/cristiansouza/anaconda3/bin/python)\nframe #62: _PyFunction_FastCallKeywords + 0x387 (0x557733066a27 in /home/cristiansouza/anaconda3/bin/python)\nframe #63: _PyEval_EvalFrameDefault + 0x416 (0x5577330be846 in /home/cristiansouza/anaconda3/bin/python)\n",
     "output_type": "error",
     "traceback": [
      "\u001b[0;31m---------------------------------------------------------------------------\u001b[0m",
      "\u001b[0;31mRuntimeError\u001b[0m                              Traceback (most recent call last)",
      "\u001b[0;32m<ipython-input-7-80518c26f127>\u001b[0m in \u001b[0;36m<module>\u001b[0;34m\u001b[0m\n\u001b[1;32m      3\u001b[0m \u001b[0;34m\u001b[0m\u001b[0m\n\u001b[1;32m      4\u001b[0m \u001b[0;31m# Loading Model\u001b[0m\u001b[0;34m\u001b[0m\u001b[0;34m\u001b[0m\u001b[0;34m\u001b[0m\u001b[0m\n\u001b[0;32m----> 5\u001b[0;31m \u001b[0mmodel\u001b[0m \u001b[0;34m=\u001b[0m \u001b[0mtorch\u001b[0m\u001b[0;34m.\u001b[0m\u001b[0mload\u001b[0m\u001b[0;34m(\u001b[0m\u001b[0;34m'checkpoint.pth'\u001b[0m\u001b[0;34m,\u001b[0m \u001b[0mmap_location\u001b[0m \u001b[0;34m=\u001b[0m \u001b[0mdevice\u001b[0m\u001b[0;34m)\u001b[0m\u001b[0;34m\u001b[0m\u001b[0;34m\u001b[0m\u001b[0m\n\u001b[0m\u001b[1;32m      6\u001b[0m \u001b[0;31m#model.eval()\u001b[0m\u001b[0;34m\u001b[0m\u001b[0;34m\u001b[0m\u001b[0;34m\u001b[0m\u001b[0m\n\u001b[1;32m      7\u001b[0m \u001b[0;31m#model\u001b[0m\u001b[0;34m\u001b[0m\u001b[0;34m\u001b[0m\u001b[0;34m\u001b[0m\u001b[0m\n",
      "\u001b[0;32m~/anaconda3/lib/python3.7/site-packages/torch/serialization.py\u001b[0m in \u001b[0;36mload\u001b[0;34m(f, map_location, pickle_module, **pickle_load_args)\u001b[0m\n\u001b[1;32m    525\u001b[0m     \u001b[0;32mwith\u001b[0m \u001b[0m_open_file_like\u001b[0m\u001b[0;34m(\u001b[0m\u001b[0mf\u001b[0m\u001b[0;34m,\u001b[0m \u001b[0;34m'rb'\u001b[0m\u001b[0;34m)\u001b[0m \u001b[0;32mas\u001b[0m \u001b[0mopened_file\u001b[0m\u001b[0;34m:\u001b[0m\u001b[0;34m\u001b[0m\u001b[0;34m\u001b[0m\u001b[0m\n\u001b[1;32m    526\u001b[0m         \u001b[0;32mif\u001b[0m \u001b[0m_is_zipfile\u001b[0m\u001b[0;34m(\u001b[0m\u001b[0mopened_file\u001b[0m\u001b[0;34m)\u001b[0m\u001b[0;34m:\u001b[0m\u001b[0;34m\u001b[0m\u001b[0;34m\u001b[0m\u001b[0m\n\u001b[0;32m--> 527\u001b[0;31m             \u001b[0;32mwith\u001b[0m \u001b[0m_open_zipfile_reader\u001b[0m\u001b[0;34m(\u001b[0m\u001b[0mf\u001b[0m\u001b[0;34m)\u001b[0m \u001b[0;32mas\u001b[0m \u001b[0mopened_zipfile\u001b[0m\u001b[0;34m:\u001b[0m\u001b[0;34m\u001b[0m\u001b[0;34m\u001b[0m\u001b[0m\n\u001b[0m\u001b[1;32m    528\u001b[0m                 \u001b[0;32mreturn\u001b[0m \u001b[0m_load\u001b[0m\u001b[0;34m(\u001b[0m\u001b[0mopened_zipfile\u001b[0m\u001b[0;34m,\u001b[0m \u001b[0mmap_location\u001b[0m\u001b[0;34m,\u001b[0m \u001b[0mpickle_module\u001b[0m\u001b[0;34m,\u001b[0m \u001b[0;34m**\u001b[0m\u001b[0mpickle_load_args\u001b[0m\u001b[0;34m)\u001b[0m\u001b[0;34m\u001b[0m\u001b[0;34m\u001b[0m\u001b[0m\n\u001b[1;32m    529\u001b[0m         \u001b[0;32mreturn\u001b[0m \u001b[0m_legacy_load\u001b[0m\u001b[0;34m(\u001b[0m\u001b[0mopened_file\u001b[0m\u001b[0;34m,\u001b[0m \u001b[0mmap_location\u001b[0m\u001b[0;34m,\u001b[0m \u001b[0mpickle_module\u001b[0m\u001b[0;34m,\u001b[0m \u001b[0;34m**\u001b[0m\u001b[0mpickle_load_args\u001b[0m\u001b[0;34m)\u001b[0m\u001b[0;34m\u001b[0m\u001b[0;34m\u001b[0m\u001b[0m\n",
      "\u001b[0;32m~/anaconda3/lib/python3.7/site-packages/torch/serialization.py\u001b[0m in \u001b[0;36m__init__\u001b[0;34m(self, name_or_buffer)\u001b[0m\n\u001b[1;32m    222\u001b[0m \u001b[0;32mclass\u001b[0m \u001b[0m_open_zipfile_reader\u001b[0m\u001b[0;34m(\u001b[0m\u001b[0m_opener\u001b[0m\u001b[0;34m)\u001b[0m\u001b[0;34m:\u001b[0m\u001b[0;34m\u001b[0m\u001b[0;34m\u001b[0m\u001b[0m\n\u001b[1;32m    223\u001b[0m     \u001b[0;32mdef\u001b[0m \u001b[0m__init__\u001b[0m\u001b[0;34m(\u001b[0m\u001b[0mself\u001b[0m\u001b[0;34m,\u001b[0m \u001b[0mname_or_buffer\u001b[0m\u001b[0;34m)\u001b[0m\u001b[0;34m:\u001b[0m\u001b[0;34m\u001b[0m\u001b[0;34m\u001b[0m\u001b[0m\n\u001b[0;32m--> 224\u001b[0;31m         \u001b[0msuper\u001b[0m\u001b[0;34m(\u001b[0m\u001b[0m_open_zipfile_reader\u001b[0m\u001b[0;34m,\u001b[0m \u001b[0mself\u001b[0m\u001b[0;34m)\u001b[0m\u001b[0;34m.\u001b[0m\u001b[0m__init__\u001b[0m\u001b[0;34m(\u001b[0m\u001b[0mtorch\u001b[0m\u001b[0;34m.\u001b[0m\u001b[0m_C\u001b[0m\u001b[0;34m.\u001b[0m\u001b[0mPyTorchFileReader\u001b[0m\u001b[0;34m(\u001b[0m\u001b[0mname_or_buffer\u001b[0m\u001b[0;34m)\u001b[0m\u001b[0;34m)\u001b[0m\u001b[0;34m\u001b[0m\u001b[0;34m\u001b[0m\u001b[0m\n\u001b[0m\u001b[1;32m    225\u001b[0m \u001b[0;34m\u001b[0m\u001b[0m\n\u001b[1;32m    226\u001b[0m \u001b[0;34m\u001b[0m\u001b[0m\n",
      "\u001b[0;31mRuntimeError\u001b[0m: version_ <= kMaxSupportedFileFormatVersion INTERNAL ASSERT FAILED at /pytorch/caffe2/serialize/inline_container.cc:132, please report a bug to PyTorch. Attempted to read a PyTorch file with version 3, but the maximum supported version for reading is 2. Your PyTorch installation may be too old. (init at /pytorch/caffe2/serialize/inline_container.cc:132)\nframe #0: c10::Error::Error(c10::SourceLocation, std::string const&) + 0x33 (0x7f13cc4a9193 in /home/cristiansouza/anaconda3/lib/python3.7/site-packages/torch/lib/libc10.so)\nframe #1: caffe2::serialize::PyTorchStreamReader::init() + 0x1f5b (0x7f13a6edcf8b in /home/cristiansouza/anaconda3/lib/python3.7/site-packages/torch/lib/libtorch.so)\nframe #2: caffe2::serialize::PyTorchStreamReader::PyTorchStreamReader(std::string const&) + 0x64 (0x7f13a6ede1a4 in /home/cristiansouza/anaconda3/lib/python3.7/site-packages/torch/lib/libtorch.so)\nframe #3: <unknown function> + 0x68ea06 (0x7f13b43a1a06 in /home/cristiansouza/anaconda3/lib/python3.7/site-packages/torch/lib/libtorch_python.so)\nframe #4: <unknown function> + 0x2701f4 (0x7f13b3f831f4 in /home/cristiansouza/anaconda3/lib/python3.7/site-packages/torch/lib/libtorch_python.so)\nframe #5: _PyMethodDef_RawFastCallDict + 0x267 (0x55773302a987 in /home/cristiansouza/anaconda3/bin/python)\nframe #6: _PyCFunction_FastCallDict + 0x21 (0x55773302aae1 in /home/cristiansouza/anaconda3/bin/python)\nframe #7: _PyObject_Call_Prepend + 0x63 (0x55773301cc43 in /home/cristiansouza/anaconda3/bin/python)\nframe #8: PyObject_Call + 0x6e (0x55773301195e in /home/cristiansouza/anaconda3/bin/python)\nframe #9: <unknown function> + 0xa23b1 (0x557732f903b1 in /home/cristiansouza/anaconda3/bin/python)\nframe #10: _PyObject_FastCallKeywords + 0x128 (0x5577330679b8 in /home/cristiansouza/anaconda3/bin/python)\nframe #11: _PyEval_EvalFrameDefault + 0x537e (0x5577330c37ae in /home/cristiansouza/anaconda3/bin/python)\nframe #12: _PyEval_EvalCodeWithName + 0x5da (0x5577330047da in /home/cristiansouza/anaconda3/bin/python)\nframe #13: _PyFunction_FastCallDict + 0x1d5 (0x5577330055d5 in /home/cristiansouza/anaconda3/bin/python)\nframe #14: _PyObject_Call_Prepend + 0x63 (0x55773301cc43 in /home/cristiansouza/anaconda3/bin/python)\nframe #15: <unknown function> + 0x1710aa (0x55773305f0aa in /home/cristiansouza/anaconda3/bin/python)\nframe #16: _PyObject_FastCallKeywords + 0x128 (0x5577330679b8 in /home/cristiansouza/anaconda3/bin/python)\nframe #17: _PyEval_EvalFrameDefault + 0x4bf6 (0x5577330c3026 in /home/cristiansouza/anaconda3/bin/python)\nframe #18: _PyEval_EvalCodeWithName + 0x2f9 (0x5577330044f9 in /home/cristiansouza/anaconda3/bin/python)\nframe #19: _PyFunction_FastCallKeywords + 0x387 (0x557733066a27 in /home/cristiansouza/anaconda3/bin/python)\nframe #20: _PyEval_EvalFrameDefault + 0x14ce (0x5577330bf8fe in /home/cristiansouza/anaconda3/bin/python)\nframe #21: _PyEval_EvalCodeWithName + 0x2f9 (0x5577330044f9 in /home/cristiansouza/anaconda3/bin/python)\nframe #22: PyEval_EvalCodeEx + 0x44 (0x5577330053c4 in /home/cristiansouza/anaconda3/bin/python)\nframe #23: PyEval_EvalCode + 0x1c (0x5577330053ec in /home/cristiansouza/anaconda3/bin/python)\nframe #24: <unknown function> + 0x1e004d (0x5577330ce04d in /home/cristiansouza/anaconda3/bin/python)\nframe #25: _PyMethodDef_RawFastCallKeywords + 0xe9 (0x557733067569 in /home/cristiansouza/anaconda3/bin/python)\nframe #26: _PyCFunction_FastCallKeywords + 0x21 (0x557733067801 in /home/cristiansouza/anaconda3/bin/python)\nframe #27: _PyEval_EvalFrameDefault + 0x4755 (0x5577330c2b85 in /home/cristiansouza/anaconda3/bin/python)\nframe #28: _PyGen_Send + 0x2a2 (0x557733060672 in /home/cristiansouza/anaconda3/bin/python)\nframe #29: _PyEval_EvalFrameDefault + 0x1a6d (0x5577330bfe9d in /home/cristiansouza/anaconda3/bin/python)\nframe #30: _PyGen_Send + 0x2a2 (0x557733060672 in /home/cristiansouza/anaconda3/bin/python)\nframe #31: _PyEval_EvalFrameDefault + 0x1a6d (0x5577330bfe9d in /home/cristiansouza/anaconda3/bin/python)\nframe #32: _PyGen_Send + 0x2a2 (0x557733060672 in /home/cristiansouza/anaconda3/bin/python)\nframe #33: _PyMethodDef_RawFastCallKeywords + 0x8c (0x55773306750c in /home/cristiansouza/anaconda3/bin/python)\nframe #34: _PyMethodDescr_FastCallKeywords + 0x4f (0x55773306786f in /home/cristiansouza/anaconda3/bin/python)\nframe #35: _PyEval_EvalFrameDefault + 0x4c4c (0x5577330c307c in /home/cristiansouza/anaconda3/bin/python)\nframe #36: _PyFunction_FastCallKeywords + 0xfb (0x55773306679b in /home/cristiansouza/anaconda3/bin/python)\nframe #37: _PyEval_EvalFrameDefault + 0x416 (0x5577330be846 in /home/cristiansouza/anaconda3/bin/python)\nframe #38: _PyFunction_FastCallKeywords + 0xfb (0x55773306679b in /home/cristiansouza/anaconda3/bin/python)\nframe #39: _PyEval_EvalFrameDefault + 0x6a0 (0x5577330bead0 in /home/cristiansouza/anaconda3/bin/python)\nframe #40: _PyEval_EvalCodeWithName + 0x2f9 (0x5577330044f9 in /home/cristiansouza/anaconda3/bin/python)\nframe #41: _PyFunction_FastCallDict + 0x400 (0x557733005800 in /home/cristiansouza/anaconda3/bin/python)\nframe #42: _PyObject_Call_Prepend + 0x63 (0x55773301cc43 in /home/cristiansouza/anaconda3/bin/python)\nframe #43: PyObject_Call + 0x6e (0x55773301195e in /home/cristiansouza/anaconda3/bin/python)\nframe #44: _PyEval_EvalFrameDefault + 0x1e20 (0x5577330c0250 in /home/cristiansouza/anaconda3/bin/python)\nframe #45: _PyEval_EvalCodeWithName + 0x5da (0x5577330047da in /home/cristiansouza/anaconda3/bin/python)\nframe #46: _PyFunction_FastCallKeywords + 0x387 (0x557733066a27 in /home/cristiansouza/anaconda3/bin/python)\nframe #47: _PyEval_EvalFrameDefault + 0x14ce (0x5577330bf8fe in /home/cristiansouza/anaconda3/bin/python)\nframe #48: <unknown function> + 0x171cc6 (0x55773305fcc6 in /home/cristiansouza/anaconda3/bin/python)\nframe #49: <unknown function> + 0x171ecb (0x55773305fecb in /home/cristiansouza/anaconda3/bin/python)\nframe #50: _PyMethodDef_RawFastCallKeywords + 0xe9 (0x557733067569 in /home/cristiansouza/anaconda3/bin/python)\nframe #51: _PyCFunction_FastCallKeywords + 0x21 (0x557733067801 in /home/cristiansouza/anaconda3/bin/python)\nframe #52: _PyEval_EvalFrameDefault + 0x4755 (0x5577330c2b85 in /home/cristiansouza/anaconda3/bin/python)\nframe #53: _PyEval_EvalCodeWithName + 0x5da (0x5577330047da in /home/cristiansouza/anaconda3/bin/python)\nframe #54: _PyFunction_FastCallKeywords + 0x387 (0x557733066a27 in /home/cristiansouza/anaconda3/bin/python)\nframe #55: _PyEval_EvalFrameDefault + 0x6a0 (0x5577330bead0 in /home/cristiansouza/anaconda3/bin/python)\nframe #56: <unknown function> + 0x171cc6 (0x55773305fcc6 in /home/cristiansouza/anaconda3/bin/python)\nframe #57: <unknown function> + 0x171ecb (0x55773305fecb in /home/cristiansouza/anaconda3/bin/python)\nframe #58: _PyMethodDef_RawFastCallKeywords + 0xe9 (0x557733067569 in /home/cristiansouza/anaconda3/bin/python)\nframe #59: _PyCFunction_FastCallKeywords + 0x21 (0x557733067801 in /home/cristiansouza/anaconda3/bin/python)\nframe #60: _PyEval_EvalFrameDefault + 0x4755 (0x5577330c2b85 in /home/cristiansouza/anaconda3/bin/python)\nframe #61: _PyEval_EvalCodeWithName + 0x5da (0x5577330047da in /home/cristiansouza/anaconda3/bin/python)\nframe #62: _PyFunction_FastCallKeywords + 0x387 (0x557733066a27 in /home/cristiansouza/anaconda3/bin/python)\nframe #63: _PyEval_EvalFrameDefault + 0x416 (0x5577330be846 in /home/cristiansouza/anaconda3/bin/python)\n"
     ]
    }
   ],
   "source": [
    "# Setting device available (gpu or cpu)\n",
    "device = torch.device(\"cuda\" if torch.cuda.is_available() else \"cpu\")\n",
    "\n",
    "# Loading Model\n",
    "model = torch.load('checkpoint.pth', map_location = device)\n",
    "#model.eval()\n",
    "#model "
   ]
  },
  {
   "cell_type": "code",
   "execution_count": 6,
   "metadata": {},
   "outputs": [],
   "source": [
    "??torch.load"
   ]
  },
  {
   "cell_type": "markdown",
   "metadata": {
    "colab_type": "text",
    "id": "2493ozQQDZJI"
   },
   "source": [
    "+ Read your test dataset, \n",
    "+ get the prediction of your test dataset images \n",
    "+ based on real and predicted values, generate the metrics that you consider useful and to evaluate the model, explaining why you considered that.\n",
    "+ Explain the results of the test.  \n"
   ]
  }
 ],
 "metadata": {
  "colab": {
   "name": "Test.ipynb",
   "provenance": []
  },
  "kernelspec": {
   "display_name": "Python 3",
   "language": "python",
   "name": "python3"
  },
  "language_info": {
   "codemirror_mode": {
    "name": "ipython",
    "version": 3
   },
   "file_extension": ".py",
   "mimetype": "text/x-python",
   "name": "python",
   "nbconvert_exporter": "python",
   "pygments_lexer": "ipython3",
   "version": "3.7.3"
  }
 },
 "nbformat": 4,
 "nbformat_minor": 1
}
