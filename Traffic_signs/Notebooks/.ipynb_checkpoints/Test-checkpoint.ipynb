{
 "cells": [
  {
   "cell_type": "code",
   "execution_count": null,
   "metadata": {
    "colab": {},
    "colab_type": "code",
    "id": "H7tcAraU_EcK"
   },
   "outputs": [],
   "source": [
    "# Libraries Imports\n",
    "import argparse\n",
    "import json\n",
    "from math import ceil\n",
    "#import PIL\n",
    "from PIL import Image\n",
    "import torch\n",
    "import numpy as np\n",
    "from torchvision import datasets, transforms, models\n",
    "from sklearn.metrics import confusion_matrix, classification_report\n",
    "import torch.nn.functional as F\n",
    "import pandas as pd\n",
    "import seaborn as sns\n",
    "import matplotlib.pyplot as plt"
   ]
  },
  {
   "cell_type": "code",
   "execution_count": null,
   "metadata": {
    "colab": {},
    "colab_type": "code",
    "id": "9v7kOMk6BzkZ"
   },
   "outputs": [],
   "source": [
    "# Means and standard deviations for normalize images\n",
    "mean = [0.485, 0.456, 0.406]\n",
    "std_dev = [0.229, 0.224, 0.225]\n",
    "\n",
    "# Sign Traffic Classes\n",
    "class_names = ['give_way', 'no_entry', 'priority_road',  'stop']\n"
   ]
  },
  {
   "cell_type": "code",
   "execution_count": null,
   "metadata": {
    "colab": {},
    "colab_type": "code",
    "id": "MJ7lzkT9Cve4"
   },
   "outputs": [],
   "source": [
    "def process_image(image):\n",
    "    ''' Scales, crops, and normalizes a PIL image for a PyTorch model,\n",
    "        returns an Numpy array\n",
    "    '''\n",
    "    transf = transforms.Compose([transforms.Resize(256),\n",
    "                                transforms.CenterCrop(224),\n",
    "                                transforms.ToTensor(),\n",
    "                                transforms.Normalize(mean, std_dev)\n",
    "                                ])\n",
    "   #img = Image.open(image)\n",
    "    img_transf = transf(image)\n",
    "    # TODO: Process a PIL image for use in a PyTorch model\n",
    "    return img_transf\n"
   ]
  },
  {
   "cell_type": "markdown",
   "metadata": {
    "colab_type": "text",
    "id": "BS3oXpsDDH1b"
   },
   "source": [
    "Getting Probability Prediction"
   ]
  },
  {
   "cell_type": "code",
   "execution_count": null,
   "metadata": {
    "colab": {},
    "colab_type": "code",
    "id": "Qjvvm7BtCyBS"
   },
   "outputs": [],
   "source": [
    "def predict_proba(model, image_path):\n",
    "  img = Image.open(image_path)\n",
    "  img = process_image(img).unsqueeze(0)\n",
    "  \n",
    "  pred = model(img.to(device))\n",
    "  pred = F.softmax(pred, dim=1)\n",
    "  return pred.detach().cpu().numpy().flatten()\n",
    "\n",
    "  \n",
    "def show_prediction_confidence(prediction, class_names):\n",
    "  pred_df = pd.DataFrame({\n",
    "    'class_names': class_names,\n",
    "    'values': prediction\n",
    "  })\n",
    "  sns.barplot(x='values', y='class_names', data=pred_df, orient='h')\n",
    "  plt.xlim([0, 1]);\n",
    "  "
   ]
  },
  {
   "cell_type": "code",
   "execution_count": null,
   "metadata": {
    "colab": {},
    "colab_type": "code",
    "id": "ESkVNCw1C3Kx"
   },
   "outputs": [],
   "source": [
    "# Setting device available (gpu or cpu)\n",
    "device = torch.device(\"cuda\" if torch.cuda.is_available() else \"cpu\")\n",
    "\n",
    "# Loading Model\n",
    "model = torch.load('checkpoint.pth', map_location = device)\n",
    "model.eval()\n",
    "model "
   ]
  },
  {
   "cell_type": "markdown",
   "metadata": {
    "colab_type": "text",
    "id": "2493ozQQDZJI"
   },
   "source": [
    "+ Read your test dataset, \n",
    "+ get the prediction of your test dataset images \n",
    "+ based on real and predicted values, generate the metrics that you consider useful and to evaluate the model, explaining why you considered that.\n",
    "+ Explain the results of the test.  \n"
   ]
  }
 ],
 "metadata": {
  "colab": {
   "name": "Test.ipynb",
   "provenance": []
  },
  "kernelspec": {
   "display_name": "Python 3",
   "language": "python",
   "name": "python3"
  },
  "language_info": {
   "codemirror_mode": {
    "name": "ipython",
    "version": 3
   },
   "file_extension": ".py",
   "mimetype": "text/x-python",
   "name": "python",
   "nbconvert_exporter": "python",
   "pygments_lexer": "ipython3",
   "version": "3.7.3"
  }
 },
 "nbformat": 4,
 "nbformat_minor": 1
}
